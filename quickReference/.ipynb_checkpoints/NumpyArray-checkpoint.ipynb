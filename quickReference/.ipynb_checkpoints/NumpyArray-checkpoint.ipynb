{
 "cells": [
  {
   "cell_type": "code",
   "execution_count": 1,
   "metadata": {},
   "outputs": [],
   "source": [
    "import numpy as np"
   ]
  },
  {
   "cell_type": "code",
   "execution_count": 7,
   "metadata": {},
   "outputs": [
    {
     "name": "stdout",
     "output_type": "stream",
     "text": [
      "pylist: [1, 2, 3, 4, 5]\n"
     ]
    }
   ],
   "source": [
    "# python array : list\n",
    "pylist = [1,2,3,4,5]\n",
    "print(f\"pylist: {pylist}\")"
   ]
  },
  {
   "cell_type": "code",
   "execution_count": 9,
   "metadata": {},
   "outputs": [
    {
     "name": "stdout",
     "output_type": "stream",
     "text": [
      "nplist: [1 2 3 4 5];\n",
      "shape: (5,)\n"
     ]
    }
   ],
   "source": [
    "# numpy array \n",
    "nplist = np.array(pylist)\n",
    "print(f\"nplist: {nplist};\\nshape: {nplist.shape}\")"
   ]
  },
  {
   "cell_type": "code",
   "execution_count": 19,
   "metadata": {},
   "outputs": [
    {
     "name": "stdout",
     "output_type": "stream",
     "text": [
      "nplist2: [[1]\n",
      " [2]\n",
      " [3]\n",
      " [4]\n",
      " [5]];\n",
      "shape2: (5, 1)\n",
      "nplist3: [[1 2 3 4 5]];\n",
      "shape3: (1, 5)\n"
     ]
    }
   ],
   "source": [
    "nplist2 = np.reshape(nplist, (5,1))\n",
    "nplist3 = np.reshape(nplist, (1,5))\n",
    "print(f\"nplist2: {nplist2};\\nshape2: {nplist2.shape}\")\n",
    "print(f\"nplist3: {nplist3};\\nshape3: {nplist3.shape}\")"
   ]
  },
  {
   "cell_type": "code",
   "execution_count": 35,
   "metadata": {},
   "outputs": [
    {
     "name": "stdout",
     "output_type": "stream",
     "text": [
      "nplist4: [[1 2 3 4 5]];\n",
      "shape4: (1, 5)\n",
      "nplist5: [[1]\n",
      " [2]\n",
      " [3]\n",
      " [4]\n",
      " [5]];\n",
      "shape5: (5, 1)\n"
     ]
    }
   ],
   "source": [
    "nplist4 = np.array([[1,2,3,4,5]])\n",
    "nplist5 = np.array([[1],[2],[3],[4],[5]])\n",
    "print(f\"nplist4: {nplist4};\\nshape4: {nplist4.shape}\")\n",
    "print(f\"nplist5: {nplist5};\\nshape5: {nplist5.shape}\")"
   ]
  },
  {
   "cell_type": "code",
   "execution_count": 36,
   "metadata": {},
   "outputs": [
    {
     "name": "stdout",
     "output_type": "stream",
     "text": [
      "1\n"
     ]
    }
   ],
   "source": [
    "print(nplist4[(0,0)])"
   ]
  },
  {
   "cell_type": "code",
   "execution_count": 37,
   "metadata": {},
   "outputs": [
    {
     "name": "stdout",
     "output_type": "stream",
     "text": [
      "[[55]]\n"
     ]
    }
   ],
   "source": [
    "print(np.dot(nplist4, nplist5))"
   ]
  },
  {
   "cell_type": "code",
   "execution_count": 39,
   "metadata": {},
   "outputs": [
    {
     "name": "stdout",
     "output_type": "stream",
     "text": [
      "[[1 1 1]\n",
      " [0 0 0]]\n",
      "[[1 0]\n",
      " [1 0]\n",
      " [1 0]]\n"
     ]
    }
   ],
   "source": [
    "nplist6 = np.array([[1,1,1], [0,0,0]])\n",
    "print(nplist6)\n",
    "print(np.transpose(nplist6))"
   ]
  },
  {
   "cell_type": "code",
   "execution_count": null,
   "metadata": {},
   "outputs": [],
   "source": []
  }
 ],
 "metadata": {
  "kernelspec": {
   "display_name": "Python 3",
   "language": "python",
   "name": "python3"
  },
  "language_info": {
   "codemirror_mode": {
    "name": "ipython",
    "version": 3
   },
   "file_extension": ".py",
   "mimetype": "text/x-python",
   "name": "python",
   "nbconvert_exporter": "python",
   "pygments_lexer": "ipython3",
   "version": "3.7.6"
  }
 },
 "nbformat": 4,
 "nbformat_minor": 4
}
