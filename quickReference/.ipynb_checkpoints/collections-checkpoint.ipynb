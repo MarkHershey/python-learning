{
 "cells": [
  {
   "cell_type": "markdown",
   "metadata": {},
   "source": [
    "# `collections` - High-performance container datatypes"
   ]
  },
  {
   "cell_type": "markdown",
   "metadata": {},
   "source": [
    "## `deque`"
   ]
  },
  {
   "cell_type": "markdown",
   "metadata": {},
   "source": [
    "### Create a deque\n",
    "`collections.deque([iterable[, maxlen]])`"
   ]
  },
  {
   "cell_type": "code",
   "execution_count": 4,
   "metadata": {},
   "outputs": [
    {
     "name": "stdout",
     "output_type": "stream",
     "text": [
      "deque([1, 2, 3, 4, 5])\n",
      "deque([1, 2, 3, 4, 5])\n",
      "deque([1, 2, 3, 4, 5])\n",
      "deque(['1', '2', '3', '4', '5'])\n"
     ]
    }
   ],
   "source": [
    "from collections import deque\n",
    "\n",
    "a = deque((1,2,3,4,5)) # tuple to deque\n",
    "b = deque([1,2,3,4,5]) # list to deque\n",
    "c = deque({1,2,3,4,5}) # set to deque\n",
    "d = deque(\"12345\")     # str to deque\n",
    "\n",
    "print(a,b,c,d,sep=\"\\n\")"
   ]
  },
  {
   "cell_type": "markdown",
   "metadata": {},
   "source": [
    "### Append items into deque\n",
    "- `list` only allow appending items to the right-end of the list\n",
    "- `deque` supports appending items to both end of the list"
   ]
  },
  {
   "cell_type": "code",
   "execution_count": 12,
   "metadata": {},
   "outputs": [
    {
     "name": "stdout",
     "output_type": "stream",
     "text": [
      "deque(['David', 'Maria', 'Meridith', 'Jackson'])\n",
      "deque(['Some VIP', 'David', 'Maria', 'Meridith', 'Jackson', 'Snowdon'])\n",
      "\n",
      " ['Some VIP', 'David', 'Maria', 'Meridith', 'Jackson', 'Snowdon']\n"
     ]
    }
   ],
   "source": [
    "# normal list A\n",
    "list_A = [\"David\", \"Maria\", \"Meridith\", \"Jackson\"]\n",
    "\n",
    "\n",
    "# convert a list into a deque\n",
    "list_B = deque(list_A)\n",
    "\n",
    "print(list_B)\n",
    "\n",
    "\n",
    "\n",
    "# Append item to both end\n",
    "list_B.append(\"Snowdon\")\n",
    "list_B.appendleft(\"Some VIP\")\n",
    "print(list_B)\n",
    "\n",
    "# same can be done for list by `insert`, but less efficient\n",
    "list_A.append(\"Snowdon\")\n",
    "list_A.insert(0, \"Some VIP\")\n",
    "print(\"\\n\", list_A)"
   ]
  },
  {
   "cell_type": "markdown",
   "metadata": {},
   "source": [
    "### Pop item from both end of a deque"
   ]
  },
  {
   "cell_type": "code",
   "execution_count": 13,
   "metadata": {},
   "outputs": [
    {
     "name": "stdout",
     "output_type": "stream",
     "text": [
      "Snowdon\n",
      "Jackson\n",
      "Some VIP\n",
      "David\n"
     ]
    }
   ],
   "source": [
    "print(list_B.pop())\n",
    "print(list_B.pop())\n",
    "print(list_B.popleft())\n",
    "print(list_B.popleft())"
   ]
  },
  {
   "cell_type": "markdown",
   "metadata": {},
   "source": [
    "### Rotate a `deque`"
   ]
  },
  {
   "cell_type": "markdown",
   "metadata": {},
   "source": [
    "### Set Maximum Length for a `deque`"
   ]
  },
  {
   "cell_type": "code",
   "execution_count": null,
   "metadata": {},
   "outputs": [],
   "source": []
  }
 ],
 "metadata": {
  "kernelspec": {
   "display_name": "Python 3",
   "language": "python",
   "name": "python3"
  },
  "language_info": {
   "codemirror_mode": {
    "name": "ipython",
    "version": 3
   },
   "file_extension": ".py",
   "mimetype": "text/x-python",
   "name": "python",
   "nbconvert_exporter": "python",
   "pygments_lexer": "ipython3",
   "version": "3.7.6"
  }
 },
 "nbformat": 4,
 "nbformat_minor": 4
}
