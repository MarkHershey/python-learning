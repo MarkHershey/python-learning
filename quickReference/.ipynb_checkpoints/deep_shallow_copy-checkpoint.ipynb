{
 "cells": [
  {
   "cell_type": "markdown",
   "metadata": {},
   "source": [
    "# Deep Copy & Shallow Copy in Python"
   ]
  },
  {
   "cell_type": "code",
   "execution_count": 1,
   "metadata": {},
   "outputs": [],
   "source": [
    "from copy import copy, deepcopy\n",
    "\n",
    "def printObj(obj, name):\n",
    "    n = len(name)\n",
    "    if n <= 13:\n",
    "        print(\"-\"*(13-n-1), f\"{name} | {obj}\")\n",
    "    else:\n",
    "        print(f\"{name} | {obj}\")\n",
    "    print(f\"--- Data Type | {type(obj)}\")\n",
    "    print(f\"----- Address | {hex(id(obj))}\")\n",
    "    print()"
   ]
  },
  {
   "cell_type": "markdown",
   "metadata": {},
   "source": [
    "#### Initialise a list `a`"
   ]
  },
  {
   "cell_type": "code",
   "execution_count": 2,
   "metadata": {},
   "outputs": [
    {
     "name": "stdout",
     "output_type": "stream",
     "text": [
      "----------- a | ['David', 'David', 'Maria', [1, 2, 3, 4, 5]]\n",
      "--- Data Type | <class 'list'>\n",
      "----- Address | 0x10f8b6eb0\n",
      "\n"
     ]
    }
   ],
   "source": [
    "a = [\"David\", \"David\", \"Maria\", [1, 2, 3, 4, 5]]\n",
    "printObj(a, \"a\")"
   ]
  },
  {
   "cell_type": "markdown",
   "metadata": {},
   "source": [
    "#### Initialise an integer variable with value `1`\n",
    "from the output, we can see that the value of `x` and `a[3][0]` are the same, and they are referencing the same object in the memory."
   ]
  },
  {
   "cell_type": "code",
   "execution_count": 3,
   "metadata": {},
   "outputs": [
    {
     "name": "stdout",
     "output_type": "stream",
     "text": [
      "----------- x | 1\n",
      "--- Data Type | <class 'int'>\n",
      "----- Address | 0x10d4aeba0\n",
      "\n",
      "----- a[3][0] | 1\n",
      "--- Data Type | <class 'int'>\n",
      "----- Address | 0x10d4aeba0\n",
      "\n"
     ]
    }
   ],
   "source": [
    "x = 1\n",
    "printObj(x, \"x\")\n",
    "printObj(a[3][0], \"a[3][0]\")"
   ]
  },
  {
   "cell_type": "markdown",
   "metadata": {},
   "source": [
    "#### Assign variable to a new variable does not create a copy of the object\n",
    "The memory address of `b` is the same as `a`, which means both of the variable is pointing to the same object. "
   ]
  },
  {
   "cell_type": "code",
   "execution_count": 4,
   "metadata": {},
   "outputs": [
    {
     "name": "stdout",
     "output_type": "stream",
     "text": [
      "----------- b | ['David', 'David', 'Maria', [1, 2, 3, 4, 5]]\n",
      "--- Data Type | <class 'list'>\n",
      "----- Address | 0x10f8b6eb0\n",
      "\n"
     ]
    }
   ],
   "source": [
    "b = a\n",
    "printObj(b, \"b\")"
   ]
  },
  {
   "cell_type": "markdown",
   "metadata": {},
   "source": [
    "#### Using list slicing operator to create a shallow copy\n",
    "The memory address of `c` is different from `a`, which means a new list object has been created and stored in a new location in memory."
   ]
  },
  {
   "cell_type": "code",
   "execution_count": 5,
   "metadata": {},
   "outputs": [
    {
     "name": "stdout",
     "output_type": "stream",
     "text": [
      "----------- c | ['David', 'David', 'Maria', [1, 2, 3, 4, 5]]\n",
      "--- Data Type | <class 'list'>\n",
      "----- Address | 0x10f7647d0\n",
      "\n"
     ]
    }
   ],
   "source": [
    "c = a[:] # shallow copy\n",
    "printObj(c, \"c\")"
   ]
  },
  {
   "cell_type": "markdown",
   "metadata": {},
   "source": [
    "#### Shallow Copy\n",
    "The memory address of `d` is different from `a`, which means a new list object has been created and stored in a new location in memory."
   ]
  },
  {
   "cell_type": "code",
   "execution_count": 6,
   "metadata": {},
   "outputs": [
    {
     "name": "stdout",
     "output_type": "stream",
     "text": [
      "----------- d | ['David', 'David', 'Maria', [1, 2, 3, 4, 5]]\n",
      "--- Data Type | <class 'list'>\n",
      "----- Address | 0x10f8ba780\n",
      "\n"
     ]
    }
   ],
   "source": [
    "d = copy(a) # shallow copy\n",
    "printObj(d, \"d\")"
   ]
  },
  {
   "cell_type": "markdown",
   "metadata": {},
   "source": [
    "#### Deep Copy\n",
    "- The memory address of `e` is different from `a`, which means a new list object has been created and stored in a new location in memory, same as above. \n",
    "- We will see what is the differnce in the next block below:"
   ]
  },
  {
   "cell_type": "code",
   "execution_count": 7,
   "metadata": {},
   "outputs": [
    {
     "name": "stdout",
     "output_type": "stream",
     "text": [
      "----------- e | ['David', 'David', 'Maria', [1, 2, 3, 4, 5]]\n",
      "--- Data Type | <class 'list'>\n",
      "----- Address | 0x10f852cd0\n",
      "\n"
     ]
    }
   ],
   "source": [
    "e = deepcopy(a) # deep copy\n",
    "printObj(e, \"e\")"
   ]
  },
  {
   "cell_type": "markdown",
   "metadata": {},
   "source": [
    "#### Difference between deep copy and shallow copy\n",
    "Note that the forth object in the list `a` is another list object. \n",
    "- shallow copy only create a copy of the outer list, but not the inner list.\n",
    "- deep copy not only create a copy of the outer list, but also the inner list. \n",
    "\n",
    "That is why, you can observe from the output that:\n",
    "1. `a[3]` (original) and `d[3]` (shallow copy) share the same address.\n",
    "2. `e[3]` (deep copy) has a new address."
   ]
  },
  {
   "cell_type": "code",
   "execution_count": 8,
   "metadata": {},
   "outputs": [
    {
     "name": "stdout",
     "output_type": "stream",
     "text": [
      "-------- a[3] | [1, 2, 3, 4, 5]\n",
      "--- Data Type | <class 'list'>\n",
      "----- Address | 0x10f764af0\n",
      "\n",
      "-------- d[3] | [1, 2, 3, 4, 5]\n",
      "--- Data Type | <class 'list'>\n",
      "----- Address | 0x10f764af0\n",
      "\n",
      "-------- e[3] | [1, 2, 3, 4, 5]\n",
      "--- Data Type | <class 'list'>\n",
      "----- Address | 0x10f75de10\n",
      "\n"
     ]
    }
   ],
   "source": [
    "printObj(a[3], \"a[3]\")\n",
    "printObj(d[3], \"d[3]\")\n",
    "printObj(e[3], \"e[3]\")"
   ]
  }
 ],
 "metadata": {
  "kernelspec": {
   "display_name": "Python 3",
   "language": "python",
   "name": "python3"
  },
  "language_info": {
   "codemirror_mode": {
    "name": "ipython",
    "version": 3
   },
   "file_extension": ".py",
   "mimetype": "text/x-python",
   "name": "python",
   "nbconvert_exporter": "python",
   "pygments_lexer": "ipython3",
   "version": "3.7.6"
  }
 },
 "nbformat": 4,
 "nbformat_minor": 4
}
