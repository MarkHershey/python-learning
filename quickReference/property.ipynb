{
 "cells": [
  {
   "cell_type": "markdown",
   "metadata": {},
   "source": [
    "# OOP: Property Function and Decorator in Python\n",
    "\n",
    "Let's say we are going to define a new class to describe person. \n",
    "\n",
    "To make it simple, the person will only have two attributes, the name, and the age."
   ]
  },
  {
   "cell_type": "markdown",
   "metadata": {},
   "source": [
    "### Implementation 1:\n",
    "\n",
    "> we start simple on the first implementation, we use the `__init__()` method to initilise every new instances of the class. \n",
    ">\n",
    "> - `name` is a mandatory parameter for a Person.\n",
    "> - `age` is an optional parameter with a default value of zero. \n",
    "\n",
    "But this oversimplified implementation has a few serious flaws:\n",
    "\n",
    "1. `name` and `age` parameter can take any data type, which does not make sense. \n",
    "2. there is no validation for `age` parameter, so age could be set to a ridiculous number, say 1000."
   ]
  },
  {
   "cell_type": "code",
   "execution_count": 1,
   "metadata": {},
   "outputs": [
    {
     "name": "stdout",
     "output_type": "stream",
     "text": [
      "Mike(Age: 0)\n",
      "23\n"
     ]
    }
   ],
   "source": [
    "class Person:\n",
    "    def __init__(self, name, age=0):\n",
    "        self.name = name\n",
    "        self.age = age\n",
    "    \n",
    "    def __str__(self):\n",
    "        return f\"{self.name}(Age: {self.age})\"\n",
    "\n",
    "p1 = Person(\"Mike\")\n",
    "print(p1)\n",
    "\n",
    "p1.age = 23\n",
    "print(p1.age)"
   ]
  },
  {
   "cell_type": "markdown",
   "metadata": {},
   "source": [
    "### Implementation 2:\n",
    "\n",
    "> This time, we made some significant improvement. \n",
    "> Now, we will check if the `name` and `age` parameters are valid before initilising them. \n",
    "\n",
    "But still there is an issue:\n",
    "\n",
    "- We are only able to catch the error when we create a new instance. If we have created a valid instance of Person, and then we can update the values of its attributes freely without going through any validation process. This is because the `__init__` function, where the validation code lives, is not called when we try to update attributes for an existing instance."
   ]
  },
  {
   "cell_type": "code",
   "execution_count": 2,
   "metadata": {},
   "outputs": [
    {
     "name": "stdout",
     "output_type": "stream",
     "text": [
      "Mike(Age: 0)\n",
      "Age can be integer or float only.\n",
      "23\n",
      "Mike(Age: HAHA)\n"
     ]
    }
   ],
   "source": [
    "class Person:\n",
    "    def __init__(self, name, age=0):\n",
    "        # Initialise Person.name\n",
    "        if type(name) == str:\n",
    "            self.name = name\n",
    "        else:\n",
    "            print(\"Person.name can be String only.\")\n",
    "        \n",
    "        # Initialise Person._age\n",
    "        if type(age) not in (int, float):\n",
    "            print(\"Age can be integer or float only.\")\n",
    "        elif age < 0:\n",
    "            print(\"Age cannot less than zero.\")\n",
    "        else:\n",
    "            self.age = age\n",
    "        \n",
    "    def __str__(self):\n",
    "        return f\"{self.name}(Age: {self.age})\"\n",
    "    \n",
    "p1 = Person(\"Mike\")\n",
    "print(p1)\n",
    "p2 = Person(\"Jack\", \"22\")\n",
    "\n",
    "\n",
    "p1.age = 23\n",
    "print(p1.age)\n",
    "\n",
    "# this implementation will only catch the error for new initiation\n",
    "# hence it won't catch the following error\n",
    "p1.age = \"HAHA\"\n",
    "print(p1)"
   ]
  },
  {
   "cell_type": "markdown",
   "metadata": {},
   "source": [
    "### Implementation 3:\n",
    "\n",
    "> This time, we will be using the python built-in function `property()` to help us addressing the issue we encountered above. \n",
    "\n",
    "Important changes:\n",
    "\n",
    "1. At line 15, we are initilising `self._age` instead of `self.age`. Using an underscore at the beginning of an attribute/ variable name in python does not technically make any difference in python, but a convention to represent private attributes. By doing this, we are prohibiting the direct access to `self.age`. \n",
    "2. At line 20, 23, and 31, we defined 3 methods to get, set, delete the `self._age` attribute respectively. \n",
    "3. At line 34, we are using the `property()` to construct a property called `age`, which you can access using `Person.age`. By passing the 3 methods to the `property` function, we are telling Python that the `getter`, `setter`, and `deleter` for the property `age` is `get_age`, `set_age`, and `del_age` respectively.\n"
   ]
  },
  {
   "cell_type": "code",
   "execution_count": 3,
   "metadata": {},
   "outputs": [
    {
     "name": "stdout",
     "output_type": "stream",
     "text": [
      "Mike(Age: 0)\n",
      "Age can be integer or float only.\n",
      "23\n",
      "Age cannot less than zero.\n",
      "Mike(Age: None)\n"
     ]
    }
   ],
   "source": [
    "class Person:\n",
    "    def __init__(self, name, age=0):\n",
    "        # Initialise Person.name\n",
    "        if type(name) == str:\n",
    "            self.name = name\n",
    "        else:\n",
    "            print(\"Person.name can be String only.\")\n",
    "        \n",
    "        # Initialise Person._age\n",
    "        if type(age) not in (int, float):\n",
    "            print(\"Age can be integer or float only.\")\n",
    "        elif age < 0:\n",
    "            print(\"Age cannot less than zero.\")\n",
    "        else:\n",
    "            self._age = age\n",
    "        \n",
    "    def __str__(self):\n",
    "        return f\"{self.name}(Age: {self._age})\"\n",
    "    \n",
    "    def get_age(self):\n",
    "        return self._age\n",
    "    \n",
    "    def set_age(self, value):\n",
    "        if type(value) not in (int, float):\n",
    "            print(\"Age can be integer or float only.\")\n",
    "        elif value < 0:\n",
    "            print(\"Age cannot less than zero.\")\n",
    "        else:\n",
    "            self._age = value\n",
    "    \n",
    "    def del_age(self):\n",
    "        self._age = None\n",
    "            \n",
    "    age = property(get_age, set_age, del_age)\n",
    "    \n",
    "p1 = Person(\"Mike\")\n",
    "print(p1)\n",
    "p2 = Person(\"Jack\", \"22\")\n",
    "\n",
    "p1.age = 23\n",
    "print(p1.age)\n",
    "p1.age = -1\n",
    "\n",
    "del(p1.age)\n",
    "print(p1)"
   ]
  },
  {
   "cell_type": "markdown",
   "metadata": {},
   "source": [
    "### Implementation 3:\n",
    "\n",
    "> Lastly, we will do the exact same thing as above in the most pythonic way, which is using the built-in decorator `@property`"
   ]
  },
  {
   "cell_type": "code",
   "execution_count": 4,
   "metadata": {},
   "outputs": [
    {
     "name": "stdout",
     "output_type": "stream",
     "text": [
      "Mike(Age: 0)\n",
      "Age can be integer or float only.\n",
      "23\n",
      "Age cannot less than zero.\n",
      "Mike(Age: None)\n"
     ]
    }
   ],
   "source": [
    "class Person:\n",
    "    def __init__(self, name, age=0):\n",
    "        # Initialise Person.name\n",
    "        if type(name) == str:\n",
    "            self.name = name\n",
    "        else:\n",
    "            print(\"Person.name can be String only.\")\n",
    "        \n",
    "        # Initialise Person._age\n",
    "        if type(age) not in (int, float):\n",
    "            print(\"Age can be integer or float only.\")\n",
    "        elif age < 0:\n",
    "            print(\"Age cannot less than zero.\")\n",
    "        else:\n",
    "            self._age = age\n",
    "        \n",
    "    def __str__(self):\n",
    "        return f\"{self.name}(Age: {self._age})\"\n",
    "    \n",
    "    @property\n",
    "    def age(self):\n",
    "        return self._age\n",
    "    \n",
    "    @age.setter\n",
    "    def age(self, value):\n",
    "        if type(value) not in (int, float):\n",
    "            print(\"Age can be integer or float only.\")\n",
    "        elif value < 0:\n",
    "            print(\"Age cannot less than zero.\")\n",
    "        else:\n",
    "            self._age = value\n",
    "    \n",
    "    @age.deleter\n",
    "    def age(self):\n",
    "        # we don't actually want to delete the age attribute from the memory\n",
    "        # because in this case, it makes no sense if a person don't have an age attribute\n",
    "        # so we assume when we use del(person.age)\n",
    "        # we actually meant to remove the age info from this person\n",
    "        self._age = None\n",
    "    \n",
    "p1 = Person(\"Mike\")\n",
    "print(p1)\n",
    "p2 = Person(\"Jack\", \"22\")\n",
    "\n",
    "p1.age = 23\n",
    "print(p1.age)\n",
    "p1.age = -1\n",
    "\n",
    "del(p1.age)\n",
    "print(p1)"
   ]
  }
 ],
 "metadata": {
  "kernelspec": {
   "display_name": "Python 3",
   "language": "python",
   "name": "python3"
  },
  "language_info": {
   "codemirror_mode": {
    "name": "ipython",
    "version": 3
   },
   "file_extension": ".py",
   "mimetype": "text/x-python",
   "name": "python",
   "nbconvert_exporter": "python",
   "pygments_lexer": "ipython3",
   "version": "3.6.9"
  }
 },
 "nbformat": 4,
 "nbformat_minor": 4
}
