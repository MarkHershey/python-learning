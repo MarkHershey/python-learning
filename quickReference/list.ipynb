{
 "cells": [
  {
   "cell_type": "markdown",
   "metadata": {
    "colab_type": "text",
    "id": "p1fvjhtpv93P"
   },
   "source": [
    "# Python Data Type: List\n"
   ]
  },
  {
   "cell_type": "markdown",
   "metadata": {
    "colab_type": "text",
    "id": "QMC-fzsYaTiq"
   },
   "source": [
    "## 1. List Creation"
   ]
  },
  {
   "cell_type": "code",
   "execution_count": 76,
   "metadata": {
    "colab": {
     "base_uri": "https://localhost:8080/",
     "height": 51
    },
    "colab_type": "code",
    "id": "kSoWQzwVaczv",
    "outputId": "549f6753-f263-4a68-d22d-00b5c689d1c5"
   },
   "outputs": [
    {
     "name": "stdout",
     "output_type": "stream",
     "text": [
      "[] | <class 'list'>\n",
      "[] | <class 'list'>\n"
     ]
    }
   ],
   "source": [
    "# create empty list\n",
    "names = []\n",
    "cities = list()\n",
    "\n",
    "print(names, type(names), sep=\" | \")\n",
    "print(cities, type(cities), sep=\" | \")"
   ]
  },
  {
   "cell_type": "markdown",
   "metadata": {
    "colab_type": "text",
    "id": "rmQeuNSzbl7I"
   },
   "source": [
    "## 2. Add new item into a List"
   ]
  },
  {
   "cell_type": "code",
   "execution_count": 77,
   "metadata": {
    "colab": {
     "base_uri": "https://localhost:8080/",
     "height": 51
    },
    "colab_type": "code",
    "id": "RwdrWJuvbw8V",
    "outputId": "8b00d944-773c-4a2f-82e2-076d7dafe55e"
   },
   "outputs": [
    {
     "name": "stdout",
     "output_type": "stream",
     "text": [
      "['Eve', 'Katy', 'Rachel', 'Phoebe', 'Annabelle', 'Adele']\n",
      "['Tokyo', 'Singapore', 'New York City', 'Shanghai', 'KL', 'Manila', 'Jakarta', 'Seoul', 'Bangkok']\n"
     ]
    }
   ],
   "source": [
    "names.append(\"Eve\")\n",
    "names.append(\"Katy\")\n",
    "names.append(\"Rachel\")\n",
    "names.append(\"Phoebe\")\n",
    "names.append(\"Annabelle\")\n",
    "names.append(\"Adele\")\n",
    "print(names)\n",
    "\n",
    "cities = [\"Tokyo\", \"Singapore\", \"New York City\", \"Shanghai\", \"KL\", \"Manila\", \"Jakarta\", \"Seoul\", \"Bangkok\"]\n",
    "print(cities)"
   ]
  },
  {
   "cell_type": "markdown",
   "metadata": {
    "colab_type": "text",
    "id": "JU_aymk7ecPN"
   },
   "source": [
    "## 3. Access item(s) in a List"
   ]
  },
  {
   "cell_type": "code",
   "execution_count": 78,
   "metadata": {
    "colab": {
     "base_uri": "https://localhost:8080/",
     "height": 442
    },
    "colab_type": "code",
    "id": "y45-yE-femJa",
    "outputId": "e916f378-d65e-41aa-da87-9dd76ae6a91d"
   },
   "outputs": [
    {
     "name": "stdout",
     "output_type": "stream",
     "text": [
      "Eve\n",
      "Phoebe\n",
      "Adele\n",
      "Annabelle\n",
      "\n",
      "Hello, Eve\n",
      "Hello, Katy\n",
      "Hello, Rachel\n",
      "Hello, Phoebe\n",
      "Hello, Annabelle\n",
      "Hello, Adele\n",
      "\n",
      "Hello, Eve\n",
      "Hello, Katy\n",
      "Hello, Rachel\n",
      "Hello, Phoebe\n",
      "Hello, Annabelle\n",
      "Hello, Adele\n",
      "\n",
      "0 | Eve\n",
      "1 | Katy\n",
      "2 | Rachel\n",
      "3 | Phoebe\n",
      "4 | Annabelle\n",
      "5 | Adele\n"
     ]
    }
   ],
   "source": [
    "# access by a specific index\n",
    "print(names[0])\n",
    "print(names[3])\n",
    "print(names[-1])\n",
    "print(names[-2])\n",
    "\n",
    "print() # just to print a line break\n",
    "\n",
    "# traverse all items in a list\n",
    "for name in names:\n",
    "  print(\"Hello,\", name)\n",
    "\n",
    "print() # just to print a line break\n",
    "\n",
    "# this will show you \"i\" is an arbitrary temporary variable name\n",
    "# below will produce the same output as above\n",
    "for i in names:\n",
    "  print(\"Hello,\", i)\n",
    "\n",
    "print() # just to print a line break\n",
    "\n",
    "# sometimes indexes are useful \n",
    "# how to get the item and its index at the same time? \n",
    "for index, name in enumerate(names):\n",
    "  print(index, name, sep=\" | \")"
   ]
  },
  {
   "cell_type": "markdown",
   "metadata": {
    "colab_type": "text",
    "id": "XDlUuiWsjphw"
   },
   "source": [
    "## 4. Count number of items in a List"
   ]
  },
  {
   "cell_type": "code",
   "execution_count": 79,
   "metadata": {
    "colab": {
     "base_uri": "https://localhost:8080/",
     "height": 68
    },
    "colab_type": "code",
    "id": "uvE5hy4wj18z",
    "outputId": "e421be49-7919-4ea1-caa1-00e9fb9f5eb4"
   },
   "outputs": [
    {
     "name": "stdout",
     "output_type": "stream",
     "text": [
      "6\n",
      "9\n",
      "['Eve', 'Katy', 'Rachel', 'Phoebe', 'Annabelle', 'Adele', 'Adele', 'Adele', 'Adele']\n"
     ]
    }
   ],
   "source": [
    "length = len(names)\n",
    "print(length)\n",
    "\n",
    "names.append(\"Adele\") # this shows List can contain multiple identical objects\n",
    "names.append(\"Adele\")\n",
    "names.append(\"Adele\")\n",
    "print(len(names))\n",
    "print(names)"
   ]
  },
  {
   "cell_type": "markdown",
   "metadata": {
    "colab_type": "text",
    "id": "43uKvOt8mEf9"
   },
   "source": [
    "## 5. Remove item(s) from a List"
   ]
  },
  {
   "cell_type": "code",
   "execution_count": 80,
   "metadata": {
    "colab": {
     "base_uri": "https://localhost:8080/",
     "height": 187
    },
    "colab_type": "code",
    "id": "sUQvcktQmIM6",
    "outputId": "4ba3dbce-49d3-46d2-910e-55bf7d821206"
   },
   "outputs": [
    {
     "name": "stdout",
     "output_type": "stream",
     "text": [
      "['Katy', 'Rachel', 'Phoebe', 'Annabelle', 'Adele', 'Adele', 'Adele', 'Adele']\n",
      "\n",
      "removed name: Katy\n",
      "['Rachel', 'Phoebe', 'Annabelle', 'Adele', 'Adele', 'Adele', 'Adele']\n",
      "\n",
      "['Rachel', 'Phoebe', 'Annabelle', 'Adele', 'Adele', 'Adele']\n",
      "\n",
      "# 01: ['Rachel', 'Phoebe', 'Annabelle', 'Adele', 'Adele']\n",
      "# 02: ['Rachel', 'Phoebe', 'Annabelle', 'Adele']\n",
      "# 03: ['Rachel', 'Phoebe', 'Annabelle']\n"
     ]
    }
   ],
   "source": [
    "# remove an item at specific index\n",
    "# method 1: del\n",
    "del names[0]\n",
    "print(names)\n",
    "print()\n",
    "\n",
    "# method 2: pop\n",
    "removed_name = names.pop(0) # pop() also returns the item being deleted\n",
    "print(\"removed name:\", removed_name)\n",
    "print(names)\n",
    "print()\n",
    "\n",
    "# remove an item with specific value\n",
    "names.remove(\"Adele\") # this will remove the first occurrence of 'Adele' only\n",
    "print(names)\n",
    "print()\n",
    "\n",
    "# remove the last item from a List\n",
    "names.pop() # 01\n",
    "print(\"# 01:\", names)\n",
    "\n",
    "names.pop(-1) # 02\n",
    "print(\"# 02:\", names)\n",
    "\n",
    "del names[-1] # 03\n",
    "print(\"# 03:\", names)\n"
   ]
  },
  {
   "cell_type": "markdown",
   "metadata": {
    "colab_type": "text",
    "id": "JD2oLuFssJrF"
   },
   "source": [
    "## 6. List Slicing"
   ]
  },
  {
   "cell_type": "code",
   "execution_count": 81,
   "metadata": {
    "colab": {
     "base_uri": "https://localhost:8080/",
     "height": 68
    },
    "colab_type": "code",
    "id": "ePm0SqoxsRUD",
    "outputId": "fc0fd70c-d287-464d-82dc-2ef4ec27c189"
   },
   "outputs": [
    {
     "name": "stdout",
     "output_type": "stream",
     "text": [
      "['Rachel', 'Phoebe', 'Annabelle']\n",
      "['Eve', 'Katy', 'Rachel']\n",
      "['Phoebe', 'Annabelle', 'Adele']\n"
     ]
    }
   ],
   "source": [
    "names = ['Rachel', 'Phoebe', 'Annabelle', 'Eve', 'Katy', 'Rachel', 'Phoebe', 'Annabelle', 'Adele']\n",
    "class_01 = names[:3]\n",
    "class_02 = names[3:6]\n",
    "class_03 = names[6:]\n",
    "\n",
    "print(class_01)\n",
    "print(class_02)\n",
    "print(class_03)"
   ]
  },
  {
   "cell_type": "markdown",
   "metadata": {
    "colab_type": "text",
    "id": "vBhGC1vyvbDG"
   },
   "source": [
    "## 7. Randomise & Sort a List\n",
    "*No need to implement quick sort, python sorts it for you!*\n",
    "\n",
    "There are two ways to sort a List in python:\n",
    "\n",
    "for a list called `cities`\n",
    "- Method 1: `cities.sort()` \n",
    "  - this is in-place sort, it does not return anything, so `print(cities.sort())` will print None. \n",
    "  - this method is NOT recommended\n",
    "- Method 2: `sorted_cities = sorted(cities)`\n",
    "  - this `sorted()` does not change orginal List object, instead, it returns a new sorted list \n",
    "  - this is the proper way to sort in Python"
   ]
  },
  {
   "cell_type": "code",
   "execution_count": 82,
   "metadata": {
    "colab": {
     "base_uri": "https://localhost:8080/",
     "height": 272
    },
    "colab_type": "code",
    "id": "PBAcjsOKv8ga",
    "outputId": "4d12b9cf-af88-440d-a3e7-d2f0427a1bc4"
   },
   "outputs": [
    {
     "name": "stdout",
     "output_type": "stream",
     "text": [
      "original list:\n",
      "['Tokyo', 'Singapore', 'New York City', 'Shanghai', 'KL', 'Manila', 'Jakarta', 'Seoul', 'Bangkok']\n",
      "\n",
      "Method 1\n",
      "randomised list:\n",
      "['Seoul', 'Singapore', 'Tokyo', 'Jakarta', 'KL', 'Manila', 'New York City', 'Shanghai', 'Bangkok']\n",
      "sorted list:\n",
      "['Bangkok', 'Jakarta', 'KL', 'Manila', 'New York City', 'Seoul', 'Shanghai', 'Singapore', 'Tokyo']\n",
      "\n",
      "Method 2\n",
      "randomised list:\n",
      "['Jakarta', 'Seoul', 'Tokyo', 'Singapore', 'New York City', 'KL', 'Bangkok', 'Shanghai', 'Manila']\n",
      "sorted list:\n",
      "a: ['Bangkok', 'Jakarta', 'KL', 'Manila', 'New York City', 'Seoul', 'Shanghai', 'Singapore', 'Tokyo']\n",
      "cities: ['Jakarta', 'Seoul', 'Tokyo', 'Singapore', 'New York City', 'KL', 'Bangkok', 'Shanghai', 'Manila']\n"
     ]
    }
   ],
   "source": [
    "import random\n",
    "\n",
    "print(\"original list:\")\n",
    "print(cities)\n",
    "\n",
    "print()\n",
    "print(\"Method 1\")\n",
    "\n",
    "print(\"randomised list:\")\n",
    "random.shuffle(cities)\n",
    "print(cities)\n",
    "\n",
    "print(\"sorted list:\")\n",
    "cities.sort() # sort method 1\n",
    "print(cities)\n",
    "\n",
    "print()\n",
    "print(\"Method 2\")\n",
    "\n",
    "print(\"randomised list:\")\n",
    "random.shuffle(cities)\n",
    "print(cities)\n",
    "\n",
    "print(\"sorted list:\")\n",
    "a = sorted(cities) # sort method 2\n",
    "print(\"a:\", a)\n",
    "print(\"cities:\", cities)\n"
   ]
  },
  {
   "cell_type": "markdown",
   "metadata": {
    "colab_type": "text",
    "id": "6oH0h3M33PJ7"
   },
   "source": [
    "## 7.1 More on `sorted()`\n",
    "By default, `sorted()` sorts items in alphabetical ascending order, but actually you can do more with `sorted()`"
   ]
  },
  {
   "cell_type": "code",
   "execution_count": 83,
   "metadata": {
    "colab": {
     "base_uri": "https://localhost:8080/",
     "height": 34
    },
    "colab_type": "code",
    "id": "pqyFAJWB3s_2",
    "outputId": "bf14b5fb-31a3-45d5-92d9-b9d49963e479"
   },
   "outputs": [
    {
     "name": "stdout",
     "output_type": "stream",
     "text": [
      "['New York City', 'Singapore', 'Shanghai', 'Jakarta', 'Bangkok', 'Manila', 'Seoul', 'Tokyo', 'KL']\n"
     ]
    }
   ],
   "source": [
    "# sort by city name length \n",
    "print(sorted(cities, key=len, reverse=True))"
   ]
  },
  {
   "cell_type": "markdown",
   "metadata": {
    "colab_type": "text",
    "id": "BT8CKgm88f1t"
   },
   "source": [
    "## 8. List Concatenation (Join two lists)"
   ]
  },
  {
   "cell_type": "code",
   "execution_count": 84,
   "metadata": {
    "colab": {
     "base_uri": "https://localhost:8080/",
     "height": 88
    },
    "colab_type": "code",
    "id": "gw4vA-iO8ryA",
    "outputId": "e7a32aee-cbdb-415c-cc98-5a72c7b736d2"
   },
   "outputs": [
    {
     "name": "stdout",
     "output_type": "stream",
     "text": [
      "cities: ['Tokyo', 'Singapore', 'Shanghai', 'Jakarta', 'Bangkok']\n",
      "american_cities: ['Los Angeles', 'Seattle', 'San Diego', 'Chicago']\n",
      "cities: ['Tokyo', 'Singapore', 'Shanghai', 'Jakarta', 'Bangkok', 'Los Angeles', 'Seattle', 'San Diego', 'Chicago', 'Los Angeles', 'Seattle', 'San Diego', 'Chicago']\n"
     ]
    }
   ],
   "source": [
    "cities = [\"Tokyo\", \"Singapore\", \"Shanghai\", \"Jakarta\", \"Bangkok\"]\n",
    "american_cities = [\"Los Angeles\", \"Seattle\", \"San Diego\", \"Chicago\"]\n",
    "\n",
    "print(\"cities:\", cities)\n",
    "print(\"american_cities:\", american_cities)\n",
    "\n",
    "# you can do this \n",
    "for city in american_cities:\n",
    "  cities.append(city)\n",
    "\n",
    "# or more succinctly \n",
    "cities = cities + american_cities\n",
    "\n",
    "print(\"cities:\", cities)"
   ]
  },
  {
   "cell_type": "markdown",
   "metadata": {
    "colab_type": "text",
    "id": "hXHOns5C-321"
   },
   "source": [
    "## 9. Remove duplicated items in a List"
   ]
  },
  {
   "cell_type": "code",
   "execution_count": 85,
   "metadata": {
    "colab": {
     "base_uri": "https://localhost:8080/",
     "height": 71
    },
    "colab_type": "code",
    "id": "EE1O7aII--Rc",
    "outputId": "1ebfcc1c-45ee-481d-9a31-581476ef756a"
   },
   "outputs": [
    {
     "name": "stdout",
     "output_type": "stream",
     "text": [
      "['Tokyo', 'Singapore', 'Shanghai', 'Jakarta', 'Bangkok', 'Los Angeles', 'Seattle', 'San Diego', 'Chicago', 'Los Angeles', 'Seattle', 'San Diego', 'Chicago']\n",
      "['Bangkok', 'Jakarta', 'Chicago', 'Los Angeles', 'Singapore', 'Seattle', 'Shanghai', 'San Diego', 'Tokyo']\n"
     ]
    }
   ],
   "source": [
    "print(cities)\n",
    "cities = list(set(cities))\n",
    "print(cities)"
   ]
  },
  {
   "cell_type": "markdown",
   "metadata": {
    "colab_type": "text",
    "id": "OCHLbl7V_efK"
   },
   "source": [
    "## 10. Lucky Draw from a List \n",
    "(Randomly select an item from a list)"
   ]
  },
  {
   "cell_type": "code",
   "execution_count": 86,
   "metadata": {
    "colab": {
     "base_uri": "https://localhost:8080/",
     "height": 85
    },
    "colab_type": "code",
    "id": "y5KRN-Vn_p-d",
    "outputId": "8b75b788-e9b4-467d-bd15-f0c857676ad4"
   },
   "outputs": [
    {
     "name": "stdout",
     "output_type": "stream",
     "text": [
      "Lucky cities are:\n",
      "Tokyo\n",
      "Shanghai\n",
      "Bangkok\n"
     ]
    }
   ],
   "source": [
    "print(\"Lucky cities are:\")\n",
    "for i in range(3):\n",
    "  draw = random.choice(cities)\n",
    "  print(draw)\n",
    "  cities.remove(draw)"
   ]
  }
 ],
 "metadata": {
  "colab": {
   "collapsed_sections": [],
   "name": "python_list.ipynb",
   "provenance": []
  },
  "kernelspec": {
   "display_name": "Python 3",
   "language": "python",
   "name": "python3"
  },
  "language_info": {
   "codemirror_mode": {
    "name": "ipython",
    "version": 3
   },
   "file_extension": ".py",
   "mimetype": "text/x-python",
   "name": "python",
   "nbconvert_exporter": "python",
   "pygments_lexer": "ipython3",
   "version": "3.7.6"
  }
 },
 "nbformat": 4,
 "nbformat_minor": 4
}
